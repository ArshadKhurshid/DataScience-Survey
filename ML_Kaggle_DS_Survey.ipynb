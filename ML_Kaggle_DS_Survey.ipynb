{
 "cells": [
  {
   "cell_type": "code",
   "execution_count": 1,
   "metadata": {
    "collapsed": true
   },
   "outputs": [],
   "source": [
    "import pandas as pd\n",
    "import numpy as np"
   ]
  },
  {
   "cell_type": "code",
   "execution_count": 2,
   "metadata": {},
   "outputs": [
    {
     "name": "stderr",
     "output_type": "stream",
     "text": [
      "C:\\Users\\Arshad\\Anaconda3\\lib\\site-packages\\IPython\\core\\interactiveshell.py:2698: DtypeWarning: Columns (31,83,86,87,98,99,109,116,123,124,127,129,130,164) have mixed types. Specify dtype option on import or set low_memory=False.\n",
      "  interactivity=interactivity, compiler=compiler, result=result)\n",
      "C:\\Users\\Arshad\\Anaconda3\\lib\\site-packages\\IPython\\core\\interactiveshell.py:2698: DtypeWarning: Columns (5,17,21,38,50) have mixed types. Specify dtype option on import or set low_memory=False.\n",
      "  interactivity=interactivity, compiler=compiler, result=result)\n"
     ]
    }
   ],
   "source": [
    "MChoice_Response = pd.read_csv(\"multipleChoiceResponses.csv\",encoding='ISO-8859-1')\n",
    "FForm_Response = pd.read_csv(\"freeformResponses.csv\",encoding='ISO-8859-1')\n",
    "Conversion_Rate = pd.read_csv(\"conversionRates.csv\",encoding='ISO-8859-1')"
   ]
  },
  {
   "cell_type": "code",
   "execution_count": 3,
   "metadata": {},
   "outputs": [
    {
     "data": {
      "text/html": [
       "<div>\n",
       "<style>\n",
       "    .dataframe thead tr:only-child th {\n",
       "        text-align: right;\n",
       "    }\n",
       "\n",
       "    .dataframe thead th {\n",
       "        text-align: left;\n",
       "    }\n",
       "\n",
       "    .dataframe tbody tr th {\n",
       "        vertical-align: top;\n",
       "    }\n",
       "</style>\n",
       "<table border=\"1\" class=\"dataframe\">\n",
       "  <thead>\n",
       "    <tr style=\"text-align: right;\">\n",
       "      <th></th>\n",
       "      <th>GenderSelect</th>\n",
       "      <th>Country</th>\n",
       "      <th>Age</th>\n",
       "      <th>EmploymentStatus</th>\n",
       "      <th>StudentStatus</th>\n",
       "      <th>LearningDataScience</th>\n",
       "      <th>CodeWriter</th>\n",
       "      <th>CareerSwitcher</th>\n",
       "      <th>CurrentJobTitleSelect</th>\n",
       "      <th>TitleFit</th>\n",
       "      <th>...</th>\n",
       "      <th>JobFactorExperienceLevel</th>\n",
       "      <th>JobFactorDepartment</th>\n",
       "      <th>JobFactorTitle</th>\n",
       "      <th>JobFactorCompanyFunding</th>\n",
       "      <th>JobFactorImpact</th>\n",
       "      <th>JobFactorRemote</th>\n",
       "      <th>JobFactorIndustry</th>\n",
       "      <th>JobFactorLeaderReputation</th>\n",
       "      <th>JobFactorDiversity</th>\n",
       "      <th>JobFactorPublishingOpportunity</th>\n",
       "    </tr>\n",
       "  </thead>\n",
       "  <tbody>\n",
       "    <tr>\n",
       "      <th>0</th>\n",
       "      <td>Non-binary, genderqueer, or gender non-conforming</td>\n",
       "      <td>NaN</td>\n",
       "      <td>NaN</td>\n",
       "      <td>Employed full-time</td>\n",
       "      <td>NaN</td>\n",
       "      <td>NaN</td>\n",
       "      <td>Yes</td>\n",
       "      <td>NaN</td>\n",
       "      <td>DBA/Database Engineer</td>\n",
       "      <td>Fine</td>\n",
       "      <td>...</td>\n",
       "      <td>NaN</td>\n",
       "      <td>NaN</td>\n",
       "      <td>NaN</td>\n",
       "      <td>NaN</td>\n",
       "      <td>NaN</td>\n",
       "      <td>NaN</td>\n",
       "      <td>NaN</td>\n",
       "      <td>NaN</td>\n",
       "      <td>NaN</td>\n",
       "      <td>NaN</td>\n",
       "    </tr>\n",
       "    <tr>\n",
       "      <th>1</th>\n",
       "      <td>Female</td>\n",
       "      <td>United States</td>\n",
       "      <td>30.0</td>\n",
       "      <td>Not employed, but looking for work</td>\n",
       "      <td>NaN</td>\n",
       "      <td>NaN</td>\n",
       "      <td>NaN</td>\n",
       "      <td>NaN</td>\n",
       "      <td>NaN</td>\n",
       "      <td>NaN</td>\n",
       "      <td>...</td>\n",
       "      <td>NaN</td>\n",
       "      <td>NaN</td>\n",
       "      <td>NaN</td>\n",
       "      <td>NaN</td>\n",
       "      <td>NaN</td>\n",
       "      <td>NaN</td>\n",
       "      <td>NaN</td>\n",
       "      <td>Somewhat important</td>\n",
       "      <td>NaN</td>\n",
       "      <td>NaN</td>\n",
       "    </tr>\n",
       "    <tr>\n",
       "      <th>2</th>\n",
       "      <td>Male</td>\n",
       "      <td>Canada</td>\n",
       "      <td>28.0</td>\n",
       "      <td>Not employed, but looking for work</td>\n",
       "      <td>NaN</td>\n",
       "      <td>NaN</td>\n",
       "      <td>NaN</td>\n",
       "      <td>NaN</td>\n",
       "      <td>NaN</td>\n",
       "      <td>NaN</td>\n",
       "      <td>...</td>\n",
       "      <td>Very Important</td>\n",
       "      <td>Very Important</td>\n",
       "      <td>Very Important</td>\n",
       "      <td>Very Important</td>\n",
       "      <td>Very Important</td>\n",
       "      <td>Very Important</td>\n",
       "      <td>Very Important</td>\n",
       "      <td>Very Important</td>\n",
       "      <td>Very Important</td>\n",
       "      <td>Very Important</td>\n",
       "    </tr>\n",
       "    <tr>\n",
       "      <th>3</th>\n",
       "      <td>Male</td>\n",
       "      <td>United States</td>\n",
       "      <td>56.0</td>\n",
       "      <td>Independent contractor, freelancer, or self-em...</td>\n",
       "      <td>NaN</td>\n",
       "      <td>NaN</td>\n",
       "      <td>Yes</td>\n",
       "      <td>NaN</td>\n",
       "      <td>Operations Research Practitioner</td>\n",
       "      <td>Poorly</td>\n",
       "      <td>...</td>\n",
       "      <td>NaN</td>\n",
       "      <td>NaN</td>\n",
       "      <td>NaN</td>\n",
       "      <td>NaN</td>\n",
       "      <td>NaN</td>\n",
       "      <td>NaN</td>\n",
       "      <td>NaN</td>\n",
       "      <td>NaN</td>\n",
       "      <td>NaN</td>\n",
       "      <td>NaN</td>\n",
       "    </tr>\n",
       "    <tr>\n",
       "      <th>4</th>\n",
       "      <td>Male</td>\n",
       "      <td>Taiwan</td>\n",
       "      <td>38.0</td>\n",
       "      <td>Employed full-time</td>\n",
       "      <td>NaN</td>\n",
       "      <td>NaN</td>\n",
       "      <td>Yes</td>\n",
       "      <td>NaN</td>\n",
       "      <td>Computer Scientist</td>\n",
       "      <td>Fine</td>\n",
       "      <td>...</td>\n",
       "      <td>NaN</td>\n",
       "      <td>NaN</td>\n",
       "      <td>NaN</td>\n",
       "      <td>NaN</td>\n",
       "      <td>NaN</td>\n",
       "      <td>NaN</td>\n",
       "      <td>NaN</td>\n",
       "      <td>NaN</td>\n",
       "      <td>NaN</td>\n",
       "      <td>NaN</td>\n",
       "    </tr>\n",
       "  </tbody>\n",
       "</table>\n",
       "<p>5 rows × 228 columns</p>\n",
       "</div>"
      ],
      "text/plain": [
       "                                        GenderSelect        Country   Age  \\\n",
       "0  Non-binary, genderqueer, or gender non-conforming            NaN   NaN   \n",
       "1                                             Female  United States  30.0   \n",
       "2                                               Male         Canada  28.0   \n",
       "3                                               Male  United States  56.0   \n",
       "4                                               Male         Taiwan  38.0   \n",
       "\n",
       "                                    EmploymentStatus StudentStatus  \\\n",
       "0                                 Employed full-time           NaN   \n",
       "1                 Not employed, but looking for work           NaN   \n",
       "2                 Not employed, but looking for work           NaN   \n",
       "3  Independent contractor, freelancer, or self-em...           NaN   \n",
       "4                                 Employed full-time           NaN   \n",
       "\n",
       "  LearningDataScience CodeWriter CareerSwitcher  \\\n",
       "0                 NaN        Yes            NaN   \n",
       "1                 NaN        NaN            NaN   \n",
       "2                 NaN        NaN            NaN   \n",
       "3                 NaN        Yes            NaN   \n",
       "4                 NaN        Yes            NaN   \n",
       "\n",
       "              CurrentJobTitleSelect TitleFit              ...                \\\n",
       "0             DBA/Database Engineer     Fine              ...                 \n",
       "1                               NaN      NaN              ...                 \n",
       "2                               NaN      NaN              ...                 \n",
       "3  Operations Research Practitioner   Poorly              ...                 \n",
       "4                Computer Scientist     Fine              ...                 \n",
       "\n",
       "  JobFactorExperienceLevel JobFactorDepartment  JobFactorTitle  \\\n",
       "0                      NaN                 NaN             NaN   \n",
       "1                      NaN                 NaN             NaN   \n",
       "2           Very Important      Very Important  Very Important   \n",
       "3                      NaN                 NaN             NaN   \n",
       "4                      NaN                 NaN             NaN   \n",
       "\n",
       "  JobFactorCompanyFunding JobFactorImpact JobFactorRemote JobFactorIndustry  \\\n",
       "0                     NaN             NaN             NaN               NaN   \n",
       "1                     NaN             NaN             NaN               NaN   \n",
       "2          Very Important  Very Important  Very Important    Very Important   \n",
       "3                     NaN             NaN             NaN               NaN   \n",
       "4                     NaN             NaN             NaN               NaN   \n",
       "\n",
       "  JobFactorLeaderReputation JobFactorDiversity JobFactorPublishingOpportunity  \n",
       "0                       NaN                NaN                            NaN  \n",
       "1        Somewhat important                NaN                            NaN  \n",
       "2            Very Important     Very Important                 Very Important  \n",
       "3                       NaN                NaN                            NaN  \n",
       "4                       NaN                NaN                            NaN  \n",
       "\n",
       "[5 rows x 228 columns]"
      ]
     },
     "execution_count": 3,
     "metadata": {},
     "output_type": "execute_result"
    }
   ],
   "source": [
    "MChoice_Response.head()"
   ]
  },
  {
   "cell_type": "code",
   "execution_count": 4,
   "metadata": {},
   "outputs": [
    {
     "data": {
      "text/html": [
       "<div>\n",
       "<style>\n",
       "    .dataframe thead tr:only-child th {\n",
       "        text-align: right;\n",
       "    }\n",
       "\n",
       "    .dataframe thead th {\n",
       "        text-align: left;\n",
       "    }\n",
       "\n",
       "    .dataframe tbody tr th {\n",
       "        vertical-align: top;\n",
       "    }\n",
       "</style>\n",
       "<table border=\"1\" class=\"dataframe\">\n",
       "  <thead>\n",
       "    <tr style=\"text-align: right;\">\n",
       "      <th></th>\n",
       "      <th>GenderFreeForm</th>\n",
       "      <th>KaggleMotivationFreeForm</th>\n",
       "      <th>CurrentJobTitleFreeForm</th>\n",
       "      <th>MLToolNextYearFreeForm</th>\n",
       "      <th>MLMethodNextYearFreeForm</th>\n",
       "      <th>LanguageRecommendationFreeForm</th>\n",
       "      <th>PublicDatasetsFreeForm</th>\n",
       "      <th>PersonalProjectsChallengeFreeForm</th>\n",
       "      <th>LearningPlatformCommunityFreeForm</th>\n",
       "      <th>LearningPlatformFreeForm1</th>\n",
       "      <th>...</th>\n",
       "      <th>WorkMethodsFrequencySelect2FreeForm</th>\n",
       "      <th>WorkMethodsFrequencySelect3FreeForm</th>\n",
       "      <th>TimeOtherSelectFreeForm</th>\n",
       "      <th>WorkChallengesFreeForm</th>\n",
       "      <th>WorkChallengeFrequencyOtherFreeForm</th>\n",
       "      <th>WorkMLTeamSeatFreeForm</th>\n",
       "      <th>WorkDataStorageFreeForm</th>\n",
       "      <th>WorkCodeSharingFreeForm</th>\n",
       "      <th>SalaryChangeFreeForm</th>\n",
       "      <th>JobSearchResourceFreeForm</th>\n",
       "    </tr>\n",
       "  </thead>\n",
       "  <tbody>\n",
       "    <tr>\n",
       "      <th>0</th>\n",
       "      <td>NaN</td>\n",
       "      <td>NaN</td>\n",
       "      <td>NaN</td>\n",
       "      <td>NaN</td>\n",
       "      <td>NaN</td>\n",
       "      <td>NaN</td>\n",
       "      <td>NaN</td>\n",
       "      <td>Data manipulation</td>\n",
       "      <td>NaN</td>\n",
       "      <td>NaN</td>\n",
       "      <td>...</td>\n",
       "      <td>NaN</td>\n",
       "      <td>NaN</td>\n",
       "      <td>NaN</td>\n",
       "      <td>NaN</td>\n",
       "      <td>NaN</td>\n",
       "      <td>NaN</td>\n",
       "      <td>NaN</td>\n",
       "      <td>NaN</td>\n",
       "      <td>NaN</td>\n",
       "      <td>NaN</td>\n",
       "    </tr>\n",
       "    <tr>\n",
       "      <th>1</th>\n",
       "      <td>NaN</td>\n",
       "      <td>NaN</td>\n",
       "      <td>NaN</td>\n",
       "      <td>NaN</td>\n",
       "      <td>NaN</td>\n",
       "      <td>NaN</td>\n",
       "      <td>NaN</td>\n",
       "      <td>I can't find time to practice consistently</td>\n",
       "      <td>NaN</td>\n",
       "      <td>NaN</td>\n",
       "      <td>...</td>\n",
       "      <td>NaN</td>\n",
       "      <td>NaN</td>\n",
       "      <td>NaN</td>\n",
       "      <td>NaN</td>\n",
       "      <td>NaN</td>\n",
       "      <td>NaN</td>\n",
       "      <td>NaN</td>\n",
       "      <td>NaN</td>\n",
       "      <td>NaN</td>\n",
       "      <td>NaN</td>\n",
       "    </tr>\n",
       "    <tr>\n",
       "      <th>2</th>\n",
       "      <td>NaN</td>\n",
       "      <td>NaN</td>\n",
       "      <td>teacher</td>\n",
       "      <td>NaN</td>\n",
       "      <td>NaN</td>\n",
       "      <td>NaN</td>\n",
       "      <td>NaN</td>\n",
       "      <td>NaN</td>\n",
       "      <td>NaN</td>\n",
       "      <td>Meetups</td>\n",
       "      <td>...</td>\n",
       "      <td>NaN</td>\n",
       "      <td>NaN</td>\n",
       "      <td>NaN</td>\n",
       "      <td>NaN</td>\n",
       "      <td>NaN</td>\n",
       "      <td>NaN</td>\n",
       "      <td>NaN</td>\n",
       "      <td>NaN</td>\n",
       "      <td>NaN</td>\n",
       "      <td>NaN</td>\n",
       "    </tr>\n",
       "    <tr>\n",
       "      <th>3</th>\n",
       "      <td>NaN</td>\n",
       "      <td>NaN</td>\n",
       "      <td>NaN</td>\n",
       "      <td>NaN</td>\n",
       "      <td>NaN</td>\n",
       "      <td>NaN</td>\n",
       "      <td>NaN</td>\n",
       "      <td>Connectivity/data fusion</td>\n",
       "      <td>NaN</td>\n",
       "      <td>NaN</td>\n",
       "      <td>...</td>\n",
       "      <td>NaN</td>\n",
       "      <td>NaN</td>\n",
       "      <td>NaN</td>\n",
       "      <td>NaN</td>\n",
       "      <td>NaN</td>\n",
       "      <td>NaN</td>\n",
       "      <td>NaN</td>\n",
       "      <td>NaN</td>\n",
       "      <td>NaN</td>\n",
       "      <td>NaN</td>\n",
       "    </tr>\n",
       "    <tr>\n",
       "      <th>4</th>\n",
       "      <td>NaN</td>\n",
       "      <td>NaN</td>\n",
       "      <td>NaN</td>\n",
       "      <td>NaN</td>\n",
       "      <td>NaN</td>\n",
       "      <td>NaN</td>\n",
       "      <td>NaN</td>\n",
       "      <td>NaN</td>\n",
       "      <td>NaN</td>\n",
       "      <td>NaN</td>\n",
       "      <td>...</td>\n",
       "      <td>NaN</td>\n",
       "      <td>NaN</td>\n",
       "      <td>NaN</td>\n",
       "      <td>NaN</td>\n",
       "      <td>NaN</td>\n",
       "      <td>NaN</td>\n",
       "      <td>NaN</td>\n",
       "      <td>NaN</td>\n",
       "      <td>NaN</td>\n",
       "      <td>NaN</td>\n",
       "    </tr>\n",
       "  </tbody>\n",
       "</table>\n",
       "<p>5 rows × 62 columns</p>\n",
       "</div>"
      ],
      "text/plain": [
       "  GenderFreeForm KaggleMotivationFreeForm CurrentJobTitleFreeForm  \\\n",
       "0            NaN                      NaN                     NaN   \n",
       "1            NaN                      NaN                     NaN   \n",
       "2            NaN                      NaN                 teacher   \n",
       "3            NaN                      NaN                     NaN   \n",
       "4            NaN                      NaN                     NaN   \n",
       "\n",
       "  MLToolNextYearFreeForm MLMethodNextYearFreeForm  \\\n",
       "0                    NaN                      NaN   \n",
       "1                    NaN                      NaN   \n",
       "2                    NaN                      NaN   \n",
       "3                    NaN                      NaN   \n",
       "4                    NaN                      NaN   \n",
       "\n",
       "  LanguageRecommendationFreeForm PublicDatasetsFreeForm  \\\n",
       "0                            NaN                    NaN   \n",
       "1                            NaN                    NaN   \n",
       "2                            NaN                    NaN   \n",
       "3                            NaN                    NaN   \n",
       "4                            NaN                    NaN   \n",
       "\n",
       "            PersonalProjectsChallengeFreeForm  \\\n",
       "0                           Data manipulation   \n",
       "1  I can't find time to practice consistently   \n",
       "2                                         NaN   \n",
       "3                    Connectivity/data fusion   \n",
       "4                                         NaN   \n",
       "\n",
       "  LearningPlatformCommunityFreeForm LearningPlatformFreeForm1  \\\n",
       "0                               NaN                       NaN   \n",
       "1                               NaN                       NaN   \n",
       "2                               NaN                   Meetups   \n",
       "3                               NaN                       NaN   \n",
       "4                               NaN                       NaN   \n",
       "\n",
       "             ...            WorkMethodsFrequencySelect2FreeForm  \\\n",
       "0            ...                                            NaN   \n",
       "1            ...                                            NaN   \n",
       "2            ...                                            NaN   \n",
       "3            ...                                            NaN   \n",
       "4            ...                                            NaN   \n",
       "\n",
       "  WorkMethodsFrequencySelect3FreeForm  TimeOtherSelectFreeForm  \\\n",
       "0                                 NaN                      NaN   \n",
       "1                                 NaN                      NaN   \n",
       "2                                 NaN                      NaN   \n",
       "3                                 NaN                      NaN   \n",
       "4                                 NaN                      NaN   \n",
       "\n",
       "  WorkChallengesFreeForm  WorkChallengeFrequencyOtherFreeForm  \\\n",
       "0                    NaN                                  NaN   \n",
       "1                    NaN                                  NaN   \n",
       "2                    NaN                                  NaN   \n",
       "3                    NaN                                  NaN   \n",
       "4                    NaN                                  NaN   \n",
       "\n",
       "  WorkMLTeamSeatFreeForm  WorkDataStorageFreeForm WorkCodeSharingFreeForm  \\\n",
       "0                    NaN                      NaN                     NaN   \n",
       "1                    NaN                      NaN                     NaN   \n",
       "2                    NaN                      NaN                     NaN   \n",
       "3                    NaN                      NaN                     NaN   \n",
       "4                    NaN                      NaN                     NaN   \n",
       "\n",
       "   SalaryChangeFreeForm JobSearchResourceFreeForm  \n",
       "0                   NaN                       NaN  \n",
       "1                   NaN                       NaN  \n",
       "2                   NaN                       NaN  \n",
       "3                   NaN                       NaN  \n",
       "4                   NaN                       NaN  \n",
       "\n",
       "[5 rows x 62 columns]"
      ]
     },
     "execution_count": 4,
     "metadata": {},
     "output_type": "execute_result"
    }
   ],
   "source": [
    "FForm_Response.head()"
   ]
  },
  {
   "cell_type": "code",
   "execution_count": 5,
   "metadata": {},
   "outputs": [
    {
     "data": {
      "text/html": [
       "<div>\n",
       "<style>\n",
       "    .dataframe thead tr:only-child th {\n",
       "        text-align: right;\n",
       "    }\n",
       "\n",
       "    .dataframe thead th {\n",
       "        text-align: left;\n",
       "    }\n",
       "\n",
       "    .dataframe tbody tr th {\n",
       "        vertical-align: top;\n",
       "    }\n",
       "</style>\n",
       "<table border=\"1\" class=\"dataframe\">\n",
       "  <thead>\n",
       "    <tr style=\"text-align: right;\">\n",
       "      <th></th>\n",
       "      <th>Unnamed: 0</th>\n",
       "      <th>originCountry</th>\n",
       "      <th>exchangeRate</th>\n",
       "    </tr>\n",
       "  </thead>\n",
       "  <tbody>\n",
       "    <tr>\n",
       "      <th>0</th>\n",
       "      <td>1</td>\n",
       "      <td>USD</td>\n",
       "      <td>1.000000</td>\n",
       "    </tr>\n",
       "    <tr>\n",
       "      <th>1</th>\n",
       "      <td>2</td>\n",
       "      <td>EUR</td>\n",
       "      <td>1.195826</td>\n",
       "    </tr>\n",
       "    <tr>\n",
       "      <th>2</th>\n",
       "      <td>3</td>\n",
       "      <td>INR</td>\n",
       "      <td>0.015620</td>\n",
       "    </tr>\n",
       "    <tr>\n",
       "      <th>3</th>\n",
       "      <td>4</td>\n",
       "      <td>GBP</td>\n",
       "      <td>1.324188</td>\n",
       "    </tr>\n",
       "    <tr>\n",
       "      <th>4</th>\n",
       "      <td>5</td>\n",
       "      <td>BRL</td>\n",
       "      <td>0.321350</td>\n",
       "    </tr>\n",
       "  </tbody>\n",
       "</table>\n",
       "</div>"
      ],
      "text/plain": [
       "   Unnamed: 0 originCountry  exchangeRate\n",
       "0           1           USD      1.000000\n",
       "1           2           EUR      1.195826\n",
       "2           3           INR      0.015620\n",
       "3           4           GBP      1.324188\n",
       "4           5           BRL      0.321350"
      ]
     },
     "execution_count": 5,
     "metadata": {},
     "output_type": "execute_result"
    }
   ],
   "source": [
    "Conversion_Rate.head()"
   ]
  },
  {
   "cell_type": "code",
   "execution_count": 6,
   "metadata": {},
   "outputs": [
    {
     "data": {
      "text/plain": [
       "array(['GenderSelect', 'Country', 'Age', 'EmploymentStatus',\n",
       "       'StudentStatus', 'LearningDataScience', 'CodeWriter',\n",
       "       'CareerSwitcher', 'CurrentJobTitleSelect', 'TitleFit',\n",
       "       'CurrentEmployerType', 'MLToolNextYearSelect',\n",
       "       'MLMethodNextYearSelect', 'LanguageRecommendationSelect',\n",
       "       'PublicDatasetsSelect', 'LearningPlatformSelect',\n",
       "       'LearningPlatformUsefulnessArxiv',\n",
       "       'LearningPlatformUsefulnessBlogs',\n",
       "       'LearningPlatformUsefulnessCollege',\n",
       "       'LearningPlatformUsefulnessCompany',\n",
       "       'LearningPlatformUsefulnessConferences',\n",
       "       'LearningPlatformUsefulnessFriends',\n",
       "       'LearningPlatformUsefulnessKaggle',\n",
       "       'LearningPlatformUsefulnessNewsletters',\n",
       "       'LearningPlatformUsefulnessCommunities',\n",
       "       'LearningPlatformUsefulnessDocumentation',\n",
       "       'LearningPlatformUsefulnessCourses',\n",
       "       'LearningPlatformUsefulnessProjects',\n",
       "       'LearningPlatformUsefulnessPodcasts',\n",
       "       'LearningPlatformUsefulnessSO',\n",
       "       'LearningPlatformUsefulnessTextbook',\n",
       "       'LearningPlatformUsefulnessTradeBook',\n",
       "       'LearningPlatformUsefulnessTutoring',\n",
       "       'LearningPlatformUsefulnessYouTube',\n",
       "       'BlogsPodcastsNewslettersSelect', 'LearningDataScienceTime',\n",
       "       'JobSkillImportanceBigData', 'JobSkillImportanceDegree',\n",
       "       'JobSkillImportanceStats', 'JobSkillImportanceEnterpriseTools',\n",
       "       'JobSkillImportancePython', 'JobSkillImportanceR',\n",
       "       'JobSkillImportanceSQL', 'JobSkillImportanceKaggleRanking',\n",
       "       'JobSkillImportanceMOOC', 'JobSkillImportanceVisualizations',\n",
       "       'JobSkillImportanceOtherSelect1', 'JobSkillImportanceOtherSelect2',\n",
       "       'JobSkillImportanceOtherSelect3', 'CoursePlatformSelect',\n",
       "       'HardwarePersonalProjectsSelect', 'TimeSpentStudying',\n",
       "       'ProveKnowledgeSelect', 'DataScienceIdentitySelect',\n",
       "       'FormalEducation', 'MajorSelect', 'Tenure', 'PastJobTitlesSelect',\n",
       "       'FirstTrainingSelect', 'LearningCategorySelftTaught',\n",
       "       'LearningCategoryOnlineCourses', 'LearningCategoryWork',\n",
       "       'LearningCategoryUniversity', 'LearningCategoryKaggle',\n",
       "       'LearningCategoryOther', 'MLSkillsSelect', 'MLTechniquesSelect',\n",
       "       'ParentsEducation', 'EmployerIndustry', 'EmployerSize',\n",
       "       'EmployerSizeChange', 'EmployerMLTime', 'EmployerSearchMethod',\n",
       "       'UniversityImportance', 'JobFunctionSelect', 'WorkHardwareSelect',\n",
       "       'WorkDataTypeSelect', 'WorkProductionFrequency', 'WorkDatasetSize',\n",
       "       'WorkAlgorithmsSelect', 'WorkToolsSelect',\n",
       "       'WorkToolsFrequencyAmazonML', 'WorkToolsFrequencyAWS',\n",
       "       'WorkToolsFrequencyAngoss', 'WorkToolsFrequencyC',\n",
       "       'WorkToolsFrequencyCloudera', 'WorkToolsFrequencyDataRobot',\n",
       "       'WorkToolsFrequencyFlume', 'WorkToolsFrequencyGCP',\n",
       "       'WorkToolsFrequencyHadoop', 'WorkToolsFrequencyIBMCognos',\n",
       "       'WorkToolsFrequencyIBMSPSSModeler',\n",
       "       'WorkToolsFrequencyIBMSPSSStatistics',\n",
       "       'WorkToolsFrequencyIBMWatson', 'WorkToolsFrequencyImpala',\n",
       "       'WorkToolsFrequencyJava', 'WorkToolsFrequencyJulia',\n",
       "       'WorkToolsFrequencyJupyter', 'WorkToolsFrequencyKNIMECommercial',\n",
       "       'WorkToolsFrequencyKNIMEFree', 'WorkToolsFrequencyMathematica',\n",
       "       'WorkToolsFrequencyMATLAB', 'WorkToolsFrequencyAzure',\n",
       "       'WorkToolsFrequencyExcel', 'WorkToolsFrequencyMicrosoftRServer',\n",
       "       'WorkToolsFrequencyMicrosoftSQL', 'WorkToolsFrequencyMinitab',\n",
       "       'WorkToolsFrequencyNoSQL', 'WorkToolsFrequencyOracle',\n",
       "       'WorkToolsFrequencyOrange', 'WorkToolsFrequencyPerl',\n",
       "       'WorkToolsFrequencyPython', 'WorkToolsFrequencyQlik',\n",
       "       'WorkToolsFrequencyR', 'WorkToolsFrequencyRapidMinerCommercial',\n",
       "       'WorkToolsFrequencyRapidMinerFree', 'WorkToolsFrequencySalfrod',\n",
       "       'WorkToolsFrequencySAPBusinessObjects', 'WorkToolsFrequencySASBase',\n",
       "       'WorkToolsFrequencySASEnterprise', 'WorkToolsFrequencySASJMP',\n",
       "       'WorkToolsFrequencySpark', 'WorkToolsFrequencySQL',\n",
       "       'WorkToolsFrequencyStan', 'WorkToolsFrequencyStatistica',\n",
       "       'WorkToolsFrequencyTableau', 'WorkToolsFrequencyTensorFlow',\n",
       "       'WorkToolsFrequencyTIBCO', 'WorkToolsFrequencyUnix',\n",
       "       'WorkToolsFrequencySelect1', 'WorkToolsFrequencySelect2',\n",
       "       'WorkFrequencySelect3', 'WorkMethodsSelect',\n",
       "       'WorkMethodsFrequencyA/B', 'WorkMethodsFrequencyAssociationRules',\n",
       "       'WorkMethodsFrequencyBayesian', 'WorkMethodsFrequencyCNNs',\n",
       "       'WorkMethodsFrequencyCollaborativeFiltering',\n",
       "       'WorkMethodsFrequencyCross-Validation',\n",
       "       'WorkMethodsFrequencyDataVisualization',\n",
       "       'WorkMethodsFrequencyDecisionTrees',\n",
       "       'WorkMethodsFrequencyEnsembleMethods',\n",
       "       'WorkMethodsFrequencyEvolutionaryApproaches',\n",
       "       'WorkMethodsFrequencyGANs', 'WorkMethodsFrequencyGBM',\n",
       "       'WorkMethodsFrequencyHMMs', 'WorkMethodsFrequencyKNN',\n",
       "       'WorkMethodsFrequencyLiftAnalysis',\n",
       "       'WorkMethodsFrequencyLogisticRegression', 'WorkMethodsFrequencyMLN',\n",
       "       'WorkMethodsFrequencyNaiveBayes', 'WorkMethodsFrequencyNLP',\n",
       "       'WorkMethodsFrequencyNeuralNetworks', 'WorkMethodsFrequencyPCA',\n",
       "       'WorkMethodsFrequencyPrescriptiveModeling',\n",
       "       'WorkMethodsFrequencyRandomForests',\n",
       "       'WorkMethodsFrequencyRecommenderSystems',\n",
       "       'WorkMethodsFrequencyRNNs', 'WorkMethodsFrequencySegmentation',\n",
       "       'WorkMethodsFrequencySimulation', 'WorkMethodsFrequencySVMs',\n",
       "       'WorkMethodsFrequencyTextAnalysis',\n",
       "       'WorkMethodsFrequencyTimeSeriesAnalysis',\n",
       "       'WorkMethodsFrequencySelect1', 'WorkMethodsFrequencySelect2',\n",
       "       'WorkMethodsFrequencySelect3', 'TimeGatheringData',\n",
       "       'TimeModelBuilding', 'TimeProduction', 'TimeVisualizing',\n",
       "       'TimeFindingInsights', 'TimeOtherSelect',\n",
       "       'AlgorithmUnderstandingLevel', 'WorkChallengesSelect',\n",
       "       'WorkChallengeFrequencyPolitics',\n",
       "       'WorkChallengeFrequencyUnusedResults',\n",
       "       'WorkChallengeFrequencyUnusefulInstrumenting',\n",
       "       'WorkChallengeFrequencyDeployment',\n",
       "       'WorkChallengeFrequencyDirtyData',\n",
       "       'WorkChallengeFrequencyExplaining', 'WorkChallengeFrequencyPass',\n",
       "       'WorkChallengeFrequencyIntegration', 'WorkChallengeFrequencyTalent',\n",
       "       'WorkChallengeFrequencyDataFunds',\n",
       "       'WorkChallengeFrequencyDomainExpertise', 'WorkChallengeFrequencyML',\n",
       "       'WorkChallengeFrequencyTools', 'WorkChallengeFrequencyExpectations',\n",
       "       'WorkChallengeFrequencyITCoordination',\n",
       "       'WorkChallengeFrequencyHiringFunds',\n",
       "       'WorkChallengeFrequencyPrivacy', 'WorkChallengeFrequencyScaling',\n",
       "       'WorkChallengeFrequencyEnvironments',\n",
       "       'WorkChallengeFrequencyClarity', 'WorkChallengeFrequencyDataAccess',\n",
       "       'WorkChallengeFrequencyOtherSelect', 'WorkDataVisualizations',\n",
       "       'WorkInternalVsExternalTools', 'WorkMLTeamSeatSelect',\n",
       "       'WorkDatasets', 'WorkDatasetsChallenge', 'WorkDataStorage',\n",
       "       'WorkDataSharing', 'WorkDataSourcing', 'WorkCodeSharing',\n",
       "       'RemoteWork', 'CompensationAmount', 'CompensationCurrency',\n",
       "       'SalaryChange', 'JobSatisfaction', 'JobSearchResource',\n",
       "       'JobHuntTime', 'JobFactorLearning', 'JobFactorSalary',\n",
       "       'JobFactorOffice', 'JobFactorLanguages', 'JobFactorCommute',\n",
       "       'JobFactorManagement', 'JobFactorExperienceLevel',\n",
       "       'JobFactorDepartment', 'JobFactorTitle', 'JobFactorCompanyFunding',\n",
       "       'JobFactorImpact', 'JobFactorRemote', 'JobFactorIndustry',\n",
       "       'JobFactorLeaderReputation', 'JobFactorDiversity',\n",
       "       'JobFactorPublishingOpportunity'], dtype=object)"
      ]
     },
     "execution_count": 6,
     "metadata": {},
     "output_type": "execute_result"
    }
   ],
   "source": [
    "#MChoice_Response.dtypes.index\n",
    "MChoice_Response.columns.values"
   ]
  },
  {
   "cell_type": "code",
   "execution_count": 7,
   "metadata": {},
   "outputs": [
    {
     "name": "stdout",
     "output_type": "stream",
     "text": [
      "95\n",
      "Male                                                 13610\n",
      "Female                                                2778\n",
      "A different identity                                   159\n",
      "Non-binary, genderqueer, or gender non-conforming       74\n",
      "Name: GenderSelect, dtype: int64\n"
     ]
    }
   ],
   "source": [
    "print(MChoice_Response.GenderSelect.isnull().sum())\n",
    "print(MChoice_Response.GenderSelect.value_counts())"
   ]
  },
  {
   "cell_type": "code",
   "execution_count": 8,
   "metadata": {},
   "outputs": [
    {
     "name": "stdout",
     "output_type": "stream",
     "text": [
      "121\n",
      "United States                  4197\n",
      "India                          2704\n",
      "Other                          1023\n",
      "Russia                          578\n",
      "United Kingdom                  535\n",
      "People 's Republic of China     471\n",
      "Brazil                          465\n",
      "Germany                         460\n",
      "France                          442\n",
      "Canada                          440\n",
      "Australia                       421\n",
      "Spain                           320\n",
      "Japan                           277\n",
      "Taiwan                          254\n",
      "Italy                           238\n",
      "Netherlands                     205\n",
      "Ukraine                         196\n",
      "South Korea                     194\n",
      "Singapore                       184\n",
      "Poland                          184\n",
      "Pakistan                        161\n",
      "Turkey                          144\n",
      "Indonesia                       131\n",
      "Switzerland                     129\n",
      "South Africa                    127\n",
      "Mexico                          126\n",
      "Colombia                        113\n",
      "Iran                            112\n",
      "Israel                          105\n",
      "Ireland                          94\n",
      "Portugal                         93\n",
      "Argentina                        92\n",
      "Belgium                          91\n",
      "Sweden                           89\n",
      "Philippines                      84\n",
      "Greece                           81\n",
      "Malaysia                         79\n",
      "Denmark                          78\n",
      "New Zealand                      74\n",
      "Nigeria                          73\n",
      "Vietnam                          71\n",
      "Republic of China                67\n",
      "Finland                          67\n",
      "Egypt                            66\n",
      "Hungary                          66\n",
      "Hong Kong                        65\n",
      "Kenya                            59\n",
      "Romania                          59\n",
      "Belarus                          54\n",
      "Norway                           53\n",
      "Czech Republic                   53\n",
      "Chile                            51\n",
      "Name: Country, dtype: int64\n"
     ]
    }
   ],
   "source": [
    "print(MChoice_Response.Country.isnull().sum())\n",
    "print(MChoice_Response.Country.value_counts())"
   ]
  },
  {
   "cell_type": "code",
   "execution_count": 9,
   "metadata": {},
   "outputs": [
    {
     "name": "stdout",
     "output_type": "stream",
     "text": [
      "0\n",
      "Employed full-time                                      10897\n",
      "Not employed, but looking for work                       2110\n",
      "Independent contractor, freelancer, or self-employed     1330\n",
      "Not employed, and not looking for work                    924\n",
      "Employed part-time                                        917\n",
      "I prefer not to say                                       420\n",
      "Retired                                                   118\n",
      "Name: EmploymentStatus, dtype: int64\n"
     ]
    }
   ],
   "source": [
    "print(MChoice_Response.EmploymentStatus.isnull().sum())\n",
    "print(MChoice_Response.EmploymentStatus.value_counts())"
   ]
  },
  {
   "cell_type": "code",
   "execution_count": 10,
   "metadata": {},
   "outputs": [
    {
     "name": "stdout",
     "output_type": "stream",
     "text": [
      "Male will replace null value in GenderSelect column\n",
      "Null values count for gender column: 0\n"
     ]
    }
   ],
   "source": [
    "GenderMode = MChoice_Response.GenderSelect.mode()[0]\n",
    "print(\"{} will replace null value in GenderSelect column\" .format(GenderMode))\n",
    "MChoice_Response['GenderSelect'] = MChoice_Response.GenderSelect.replace(to_replace=np.NaN, value=GenderMode)\n",
    "print('Null values count for gender column:', MChoice_Response.GenderSelect.isnull().sum())"
   ]
  },
  {
   "cell_type": "code",
   "execution_count": 11,
   "metadata": {},
   "outputs": [
    {
     "name": "stdout",
     "output_type": "stream",
     "text": [
      "United States will replace null value in Country column\n",
      "Null values count for country column: 0\n"
     ]
    }
   ],
   "source": [
    "CountryMode = MChoice_Response.Country.mode()[0]\n",
    "print(\"{} will replace null value in Country column\" .format(CountryMode))\n",
    "MChoice_Response['Country'] = MChoice_Response.Country.replace(to_replace=np.NaN, value=CountryMode)\n",
    "print('Null values count for country column:', MChoice_Response.Country.isnull().sum())"
   ]
  },
  {
   "cell_type": "code",
   "execution_count": 12,
   "metadata": {
    "collapsed": true
   },
   "outputs": [],
   "source": [
    "import seaborn as sns\n",
    "import matplotlib.pyplot as plt"
   ]
  },
  {
   "cell_type": "code",
   "execution_count": 13,
   "metadata": {},
   "outputs": [
    {
     "data": {
      "image/png": "[encoded data removed]",
      "text/plain": [
       "<matplotlib.figure.Figure at 0x1b6c46a5b00>"
      ]
     },
     "metadata": {},
     "output_type": "display_data"
    }
   ],
   "source": [
    "plt.subplots(figsize=(22,12))\n",
    "sns.countplot(y=MChoice_Response['GenderSelect'],order=MChoice_Response['GenderSelect'].value_counts().index)\n",
    "plt.show()"
   ]
  },
  {
   "cell_type": "code",
   "execution_count": 14,
   "metadata": {},
   "outputs": [
    {
     "data": {
      "image/png": "[encoded data removed]",
      "text/plain": [
       "<matplotlib.figure.Figure at 0x1b6c47fd0b8>"
      ]
     },
     "metadata": {},
     "output_type": "display_data"
    }
   ],
   "source": [
    "MChoice_Response_15 = MChoice_Response['Country'].value_counts()[:15].to_frame()\n",
    "sns.barplot(MChoice_Response_15['Country'],MChoice_Response_15.index,palette='inferno')\n",
    "plt.title('Top 15 countries by number of respondent')\n",
    "plt.xlabel(' ')\n",
    "fig = plt.gcf()\n",
    "fig.set_size_inches(10,10)\n",
    "#sns.countplot(y=MChoice_Response_15['Country'],order=MChoice_Response_15['Country'].value_counts().index)\n",
    "plt.show()"
   ]
  },
  {
   "cell_type": "code",
   "execution_count": 15,
   "metadata": {},
   "outputs": [
    {
     "name": "stdout",
     "output_type": "stream",
     "text": [
      "11492\n",
      "100000       182\n",
      "60000        161\n",
      "50000        153\n",
      "120000       138\n",
      "80000        131\n",
      "150000       129\n",
      "40000        119\n",
      "30000        114\n",
      "90000        108\n",
      "70000        105\n",
      "75000         95\n",
      "200000        86\n",
      "65000         86\n",
      "45000         80\n",
      "110000        79\n",
      "130000        77\n",
      "25000         74\n",
      "85000         73\n",
      "20000         67\n",
      "140000        67\n",
      "35000         58\n",
      "55000         56\n",
      "0             55\n",
      "160000        51\n",
      "300000        51\n",
      "180000        44\n",
      "125000        43\n",
      "250000        43\n",
      "18000         37\n",
      "115000        37\n",
      "            ... \n",
      "658000         1\n",
      "508000         1\n",
      "143000         1\n",
      "700000000      1\n",
      "77900          1\n",
      "177000         1\n",
      "555000         1\n",
      "1250000        1\n",
      "800000000      1\n",
      "1050000        1\n",
      "285000         1\n",
      "6500           1\n",
      "20500          1\n",
      "39.5           1\n",
      "12900          1\n",
      "31500          1\n",
      "163500         1\n",
      "99             1\n",
      "52480          1\n",
      "115500         1\n",
      "1980000        1\n",
      "312000         1\n",
      "28000000       1\n",
      "1440000        1\n",
      "36800          1\n",
      "485            1\n",
      "1820000        1\n",
      "7500           1\n",
      "5600000        1\n",
      "15333          1\n",
      "Name: CompensationAmount, Length: 727, dtype: int64\n"
     ]
    }
   ],
   "source": [
    "MChoice_Response['CompensationAmount'] = MChoice_Response['CompensationAmount'].str.replace(',','')\n",
    "MChoice_Response['CompensationAmount'] = MChoice_Response['CompensationAmount'].str.replace('-','')\n",
    "print(MChoice_Response.CompensationAmount.isnull().sum())\n",
    "print(MChoice_Response.CompensationAmount.value_counts())\n",
    "#MChoice_Response['CompensationAmount']"
   ]
  },
  {
   "cell_type": "code",
   "execution_count": 17,
   "metadata": {},
   "outputs": [
    {
     "name": "stdout",
     "output_type": "stream",
     "text": [
      "Maximum Salary is USD $ 208999999\n",
      "Minimum Salary is USD $ -2147483648\n",
      "Median Salary is USD $ 53812.0\n"
     ]
    }
   ],
   "source": [
    "#Conversion_Rate.drop('Unnamed: 0',axis=1,inplace=True)\n",
    "salary=MChoice_Response[['CompensationAmount','CompensationCurrency','GenderSelect','Country','CurrentJobTitleSelect']].dropna()\n",
    "salary = salary.merge(Conversion_Rate, left_on ='CompensationCurrency',right_on= 'originCountry', how='left' )\n",
    "salary['Salary'] = pd.to_numeric(salary['CompensationAmount'])* salary['exchangeRate']\n",
    "print('Maximum Salary is USD $',salary['Salary'].dropna().astype(int).max())\n",
    "print('Minimum Salary is USD $',salary['Salary'].dropna().astype(int).min())\n",
    "print('Median Salary is USD $',salary['Salary'].dropna().astype(int).median())\n"
   ]
  },
  {
   "cell_type": "code",
   "execution_count": 19,
   "metadata": {},
   "outputs": [
    {
     "data": {
      "image/png": "[encoded data removed]",
      "text/plain": [
       "<matplotlib.figure.Figure at 0x1b6c90e1a90>"
      ]
     },
     "metadata": {},
     "output_type": "display_data"
    }
   ],
   "source": [
    "plt.subplots(figsize=(15,8))\n",
    "salary=salary[salary['Salary'] < 1000000]\n",
    "sns.distplot(salary['Salary'])\n",
    "plt.title('Salary Distribution', size=15)\n",
    "plt.show()"
   ]
  },
  {
   "cell_type": "code",
   "execution_count": 20,
   "metadata": {},
   "outputs": [
    {
     "name": "stdout",
     "output_type": "stream",
     "text": [
      "Formal Education has 1701 null values\n",
      "Master's degree                                                      6273\n",
      "Bachelor's degree                                                    4811\n",
      "Doctoral degree                                                      2347\n",
      "Some college/university study without earning a bachelor's degree     786\n",
      "Professional degree                                                   451\n",
      "I did not complete any formal education past high school              257\n",
      "I prefer not to answer                                                 90\n",
      "Name: FormalEducation, dtype: int64\n"
     ]
    }
   ],
   "source": [
    "#MChoice_Response['FormalEducation']\n",
    "print('Formal Education has {} null values'.format(MChoice_Response.FormalEducation.isnull().sum()))\n",
    "print(MChoice_Response.FormalEducation.value_counts())\n"
   ]
  },
  {
   "cell_type": "code",
   "execution_count": 21,
   "metadata": {},
   "outputs": [
    {
     "name": "stdout",
     "output_type": "stream",
     "text": [
      "Replace all null value with Master's degree, mode of column\n",
      "Null value is 0 after replcaement with mode value\n"
     ]
    }
   ],
   "source": [
    "FormalEdu_mode = MChoice_Response.FormalEducation.mode()[0]\n",
    "print('Replace all null value with {}, mode of column' .format(FormalEdu_mode))\n",
    "MChoice_Response['FormalEducation']= MChoice_Response.FormalEducation.replace(to_replace=np.NaN, value=FormalEdu_mode)\n",
    "print('Null value is {} after replcaement with mode value'.format(MChoice_Response.FormalEducation.isnull().sum()))"
   ]
  },
  {
   "cell_type": "code",
   "execution_count": 57,
   "metadata": {},
   "outputs": [],
   "source": [
    "pie_x = MChoice_Response['FormalEducation'].value_counts()\n"
   ]
  },
  {
   "cell_type": "code",
   "execution_count": 58,
   "metadata": {},
   "outputs": [
    {
     "data": {
      "image/png": "[encoded data removed]",
      "text/plain": [
       "<matplotlib.figure.Figure at 0x1b6ca448e48>"
      ]
     },
     "metadata": {},
     "output_type": "display_data"
    }
   ],
   "source": [
    "plt.pie(pie_x, labels=MChoice_Response['FormalEducation'].unique(), radius=1.5, shadow=True, autopct='%1.1f%%' )\n",
    "plt.show()"
   ]
  },
  {
   "cell_type": "code",
   "execution_count": 29,
   "metadata": {},
   "outputs": [
    {
     "name": "stdout",
     "output_type": "stream",
     "text": [
      "College Major has 3435 null values\n",
      "Computer Science                                                4397\n",
      "Mathematics or statistics                                       2220\n",
      "Engineering (non-computer focused)                              1339\n",
      "Electrical Engineering                                          1303\n",
      "Other                                                            848\n",
      "Physics                                                          830\n",
      "Information technology, networking, or system administration     693\n",
      "A social science                                                 531\n",
      "Biology                                                          274\n",
      "Management information systems                                   237\n",
      "A humanities discipline                                          198\n",
      "A health science                                                 152\n",
      "Psychology                                                       137\n",
      "I never declared a major                                          65\n",
      "Fine arts or performing arts                                      57\n",
      "Name: MajorSelect, dtype: int64\n"
     ]
    }
   ],
   "source": [
    "print('College Major has {} null values'.format(MChoice_Response['MajorSelect'].isnull().sum()))\n",
    "print(MChoice_Response.MajorSelect.value_counts())"
   ]
  },
  {
   "cell_type": "code",
   "execution_count": 30,
   "metadata": {},
   "outputs": [
    {
     "name": "stdout",
     "output_type": "stream",
     "text": [
      "Replace all null value with Computer Science, mode of column\n",
      "Null value is 0 after replcaement with mode value\n"
     ]
    }
   ],
   "source": [
    "Major_mode = MChoice_Response.MajorSelect.mode()[0]\n",
    "print('Replace all null value with {}, mode of column' .format(Major_mode))\n",
    "MChoice_Response['MajorSelect']= MChoice_Response.MajorSelect.replace(to_replace=np.NaN, value=Major_mode)\n",
    "print('Null value is {} after replacement with mode value'.format(MChoice_Response.MajorSelect.isnull().sum()))"
   ]
  },
  {
   "cell_type": "code",
   "execution_count": 31,
   "metadata": {},
   "outputs": [
    {
     "data": {
      "image/png": "[encoded data removed]",
      "text/plain": [
       "<matplotlib.figure.Figure at 0x1b6cba6a5c0>"
      ]
     },
     "metadata": {},
     "output_type": "display_data"
    }
   ],
   "source": [
    "plt.subplots(figsize=(22,12))\n",
    "sns.countplot(y=MChoice_Response['MajorSelect'],order=MChoice_Response['MajorSelect'].value_counts().index)\n",
    "plt.show()"
   ]
  },
  {
   "cell_type": "code",
   "execution_count": 35,
   "metadata": {},
   "outputs": [
    {
     "data": {
      "image/png": "[encoded data removed]",
      "text/plain": [
       "<matplotlib.figure.Figure at 0x1b6ca52e3c8>"
      ]
     },
     "metadata": {},
     "output_type": "display_data"
    }
   ],
   "source": [
    "plt.subplots(figsize=(10,8))\n",
    "sns.boxplot(y='GenderSelect', x='Salary', data=salary)\n",
    "plt.ylabel('')\n",
    "plt.show()"
   ]
  },
  {
   "cell_type": "code",
   "execution_count": 38,
   "metadata": {},
   "outputs": [
    {
     "data": {
      "image/png": "[encoded data removed]",
      "text/plain": [
       "<matplotlib.figure.Figure at 0x1b6ca021dd8>"
      ]
     },
     "metadata": {},
     "output_type": "display_data"
    }
   ],
   "source": [
    "plt.subplots(figsize=(15,8))\n",
    "MChoice_Response['Age'].hist(bins=50,edgecolor='black')\n",
    "plt.xticks(list(range(0,80,5)))\n",
    "plt.title('Age Distribution')\n",
    "plt.show()"
   ]
  }
 ],
 "metadata": {
  "kernelspec": {
   "display_name": "Python 3",
   "language": "python",
   "name": "python3"
  },
  "language_info": {
   "codemirror_mode": {
    "name": "ipython",
    "version": 3
   },
   "file_extension": ".py",
   "mimetype": "text/x-python",
   "name": "python",
   "nbconvert_exporter": "python",
   "pygments_lexer": "ipython3",
   "version": "3.6.3"
  }
 },
 "nbformat": 4,
 "nbformat_minor": 2
}
